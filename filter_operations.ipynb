{
 "cells": [
  {
   "cell_type": "code",
   "execution_count": 4,
   "metadata": {},
   "outputs": [],
   "source": [
    "from pyspark.sql import SparkSession\n",
    "import warnings\n",
    "warnings.filterwarnings(\"ignore\")"
   ]
  },
  {
   "cell_type": "code",
   "execution_count": 7,
   "metadata": {},
   "outputs": [],
   "source": [
    "spark = SparkSession.builder.appName('filter').getOrCreate()"
   ]
  },
  {
   "cell_type": "code",
   "execution_count": 8,
   "metadata": {},
   "outputs": [
    {
     "data": {
      "text/html": [
       "\n",
       "            <div>\n",
       "                <p><b>SparkSession - in-memory</b></p>\n",
       "                \n",
       "        <div>\n",
       "            <p><b>SparkContext</b></p>\n",
       "\n",
       "            <p><a href=\"http://uyens-mbp.home:4040\">Spark UI</a></p>\n",
       "\n",
       "            <dl>\n",
       "              <dt>Version</dt>\n",
       "                <dd><code>v3.2.1</code></dd>\n",
       "              <dt>Master</dt>\n",
       "                <dd><code>local[*]</code></dd>\n",
       "              <dt>AppName</dt>\n",
       "                <dd><code>filter</code></dd>\n",
       "            </dl>\n",
       "        </div>\n",
       "        \n",
       "            </div>\n",
       "        "
      ],
      "text/plain": [
       "<pyspark.sql.session.SparkSession at 0x119dfbba8>"
      ]
     },
     "execution_count": 8,
     "metadata": {},
     "output_type": "execute_result"
    }
   ],
   "source": [
    "spark"
   ]
  },
  {
   "cell_type": "code",
   "execution_count": 10,
   "metadata": {},
   "outputs": [
    {
     "name": "stdout",
     "output_type": "stream",
     "text": [
      "+----------+------+----------------+--------------------+--------------+------------+-----+\n",
      "|customerID|gender|PaperlessBilling|       PaymentMethod|MonthlyCharges|TotalCharges|Churn|\n",
      "+----------+------+----------------+--------------------+--------------+------------+-----+\n",
      "|7590-VHVEG|Female|             Yes|    Electronic check|         29.85|       29.85|   No|\n",
      "|5575-GNVDE|  Male|              No|                null|         56.95|        null|   No|\n",
      "|3668-QPYBK|  Male|             Yes|        Mailed check|         53.85|      108.15|  Yes|\n",
      "|7795-CFOCW|  Male|              No|Bank transfer (au...|          null|     1840.75|   No|\n",
      "|9237-HQITU|Female|             Yes|    Electronic check|          70.7|      151.65|  Yes|\n",
      "|9305-CDSKC|  null|             Yes|    Electronic check|         99.65|       820.5|  Yes|\n",
      "|1452-KIOVK|  Male|             Yes|Credit card (auto...|          89.1|      1949.4|   No|\n",
      "|6713-OKOMC|Female|              No|        Mailed check|         29.75|       301.9|   No|\n",
      "|7892-POOKP|Female|             Yes|    Electronic check|         104.8|        null|  Yes|\n",
      "|6388-TABGU|  Male|              No|Bank transfer (au...|         56.15|     3487.95|   No|\n",
      "|9763-GRSKD|  Male|            null|        Mailed check|         49.95|      587.45|   No|\n",
      "|7469-LKBCI|  Male|              No|Credit card (auto...|         18.95|       326.8|   No|\n",
      "|8091-TTVAX|  Male|              No|Credit card (auto...|        100.35|      5681.1|   No|\n",
      "+----------+------+----------------+--------------------+--------------+------------+-----+\n",
      "\n"
     ]
    }
   ],
   "source": [
    "data_file = 'data_telecom_churn.csv'\n",
    "df = spark.read.csv(data_file, header=True, inferSchema=True)\n",
    "df.show()"
   ]
  },
  {
   "cell_type": "code",
   "execution_count": 13,
   "metadata": {},
   "outputs": [
    {
     "name": "stdout",
     "output_type": "stream",
     "text": [
      "+----------+------+----------------+--------------------+--------------+------------+-----+\n",
      "|customerID|gender|PaperlessBilling|       PaymentMethod|MonthlyCharges|TotalCharges|Churn|\n",
      "+----------+------+----------------+--------------------+--------------+------------+-----+\n",
      "|5575-GNVDE|  Male|              No|                null|         56.95|        null|   No|\n",
      "|3668-QPYBK|  Male|             Yes|        Mailed check|         53.85|      108.15|  Yes|\n",
      "|9237-HQITU|Female|             Yes|    Electronic check|          70.7|      151.65|  Yes|\n",
      "|9305-CDSKC|  null|             Yes|    Electronic check|         99.65|       820.5|  Yes|\n",
      "|1452-KIOVK|  Male|             Yes|Credit card (auto...|          89.1|      1949.4|   No|\n",
      "|7892-POOKP|Female|             Yes|    Electronic check|         104.8|        null|  Yes|\n",
      "|6388-TABGU|  Male|              No|Bank transfer (au...|         56.15|     3487.95|   No|\n",
      "|9763-GRSKD|  Male|            null|        Mailed check|         49.95|      587.45|   No|\n",
      "|8091-TTVAX|  Male|              No|Credit card (auto...|        100.35|      5681.1|   No|\n",
      "+----------+------+----------------+--------------------+--------------+------------+-----+\n",
      "\n"
     ]
    }
   ],
   "source": [
    "# Show customers that has monthly charges above $40\n",
    "df.filter(\"MonthlyCharges >= 40\").show()"
   ]
  },
  {
   "cell_type": "code",
   "execution_count": 14,
   "metadata": {},
   "outputs": [
    {
     "name": "stdout",
     "output_type": "stream",
     "text": [
      "+----------+--------------+\n",
      "|customerID|MonthlyCharges|\n",
      "+----------+--------------+\n",
      "|5575-GNVDE|         56.95|\n",
      "|3668-QPYBK|         53.85|\n",
      "|9237-HQITU|          70.7|\n",
      "|9305-CDSKC|         99.65|\n",
      "|1452-KIOVK|          89.1|\n",
      "|7892-POOKP|         104.8|\n",
      "|6388-TABGU|         56.15|\n",
      "|9763-GRSKD|         49.95|\n",
      "|8091-TTVAX|        100.35|\n",
      "+----------+--------------+\n",
      "\n"
     ]
    }
   ],
   "source": [
    "# Show customers that has monthly charges above $40\n",
    "df.filter(\"MonthlyCharges >= 40\").select(['customerID', 'MonthlyCharges']).show()"
   ]
  },
  {
   "cell_type": "code",
   "execution_count": 16,
   "metadata": {},
   "outputs": [
    {
     "name": "stdout",
     "output_type": "stream",
     "text": [
      "+----------+--------------+\n",
      "|customerID|MonthlyCharges|\n",
      "+----------+--------------+\n",
      "|5575-GNVDE|         56.95|\n",
      "|3668-QPYBK|         53.85|\n",
      "|9237-HQITU|          70.7|\n",
      "|9305-CDSKC|         99.65|\n",
      "|1452-KIOVK|          89.1|\n",
      "|7892-POOKP|         104.8|\n",
      "|6388-TABGU|         56.15|\n",
      "|9763-GRSKD|         49.95|\n",
      "|8091-TTVAX|        100.35|\n",
      "+----------+--------------+\n",
      "\n"
     ]
    }
   ],
   "source": [
    "df.filter(df['MonthlyCharges'] >= 40).select(['customerID', 'MonthlyCharges']).show()"
   ]
  }
 ],
 "metadata": {
  "interpreter": {
   "hash": "c1b6a53c78a639703da76b578abed457aa085474e0a9423a901ef81d3033d032"
  },
  "kernelspec": {
   "display_name": "Python 3.7.3 ('python3')",
   "language": "python",
   "name": "python3"
  },
  "language_info": {
   "codemirror_mode": {
    "name": "ipython",
    "version": 3
   },
   "file_extension": ".py",
   "mimetype": "text/x-python",
   "name": "python",
   "nbconvert_exporter": "python",
   "pygments_lexer": "ipython3",
   "version": "3.7.3"
  },
  "orig_nbformat": 4
 },
 "nbformat": 4,
 "nbformat_minor": 2
}
