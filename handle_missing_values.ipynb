{
 "cells": [
  {
   "cell_type": "code",
   "execution_count": 9,
   "metadata": {},
   "outputs": [],
   "source": [
    "import pyspark\n",
    "import warnings\n",
    "warnings.filterwarnings(\"ignore\")"
   ]
  },
  {
   "cell_type": "code",
   "execution_count": 10,
   "metadata": {},
   "outputs": [],
   "source": [
    "from pyspark.sql import SparkSession"
   ]
  },
  {
   "cell_type": "code",
   "execution_count": 11,
   "metadata": {},
   "outputs": [
    {
     "data": {
      "text/html": [
       "\n",
       "            <div>\n",
       "                <p><b>SparkSession - in-memory</b></p>\n",
       "                \n",
       "        <div>\n",
       "            <p><b>SparkContext</b></p>\n",
       "\n",
       "            <p><a href=\"http://uyens-mbp.home:4040\">Spark UI</a></p>\n",
       "\n",
       "            <dl>\n",
       "              <dt>Version</dt>\n",
       "                <dd><code>v3.2.1</code></dd>\n",
       "              <dt>Master</dt>\n",
       "                <dd><code>local[*]</code></dd>\n",
       "              <dt>AppName</dt>\n",
       "                <dd><code>missing_values</code></dd>\n",
       "            </dl>\n",
       "        </div>\n",
       "        \n",
       "            </div>\n",
       "        "
      ],
      "text/plain": [
       "<pyspark.sql.session.SparkSession at 0x11238a860>"
      ]
     },
     "execution_count": 11,
     "metadata": {},
     "output_type": "execute_result"
    }
   ],
   "source": [
    "spark = SparkSession.builder.appName('missing_values').getOrCreate()\n",
    "spark"
   ]
  },
  {
   "cell_type": "code",
   "execution_count": 12,
   "metadata": {},
   "outputs": [
    {
     "name": "stdout",
     "output_type": "stream",
     "text": [
      "+----------+------+----------------+--------------------+--------------+------------+-----+\n",
      "|customerID|gender|PaperlessBilling|       PaymentMethod|MonthlyCharges|TotalCharges|Churn|\n",
      "+----------+------+----------------+--------------------+--------------+------------+-----+\n",
      "|7590-VHVEG|Female|             Yes|    Electronic check|         29.85|       29.85|   No|\n",
      "|5575-GNVDE|  Male|              No|                null|         56.95|        null|   No|\n",
      "|3668-QPYBK|  Male|             Yes|        Mailed check|         53.85|      108.15|  Yes|\n",
      "|7795-CFOCW|  Male|              No|Bank transfer (au...|          null|     1840.75|   No|\n",
      "|9237-HQITU|Female|             Yes|    Electronic check|          70.7|      151.65|  Yes|\n",
      "|9305-CDSKC|  null|             Yes|    Electronic check|         99.65|       820.5|  Yes|\n",
      "|1452-KIOVK|  Male|             Yes|Credit card (auto...|          89.1|      1949.4|   No|\n",
      "|6713-OKOMC|Female|              No|        Mailed check|         29.75|       301.9|   No|\n",
      "|7892-POOKP|Female|             Yes|    Electronic check|         104.8|        null|  Yes|\n",
      "|6388-TABGU|  Male|              No|Bank transfer (au...|         56.15|     3487.95|   No|\n",
      "|9763-GRSKD|  Male|            null|        Mailed check|         49.95|      587.45|   No|\n",
      "|7469-LKBCI|  Male|              No|Credit card (auto...|         18.95|       326.8|   No|\n",
      "|8091-TTVAX|  Male|              No|Credit card (auto...|        100.35|      5681.1|   No|\n",
      "+----------+------+----------------+--------------------+--------------+------------+-----+\n",
      "\n"
     ]
    }
   ],
   "source": [
    "# Read dataset\n",
    "data_path = 'data_telecom_churn.csv'\n",
    "df = spark.read.csv(data_path, header=True, inferSchema=True)\n",
    "# Show the df\n",
    "df.show()"
   ]
  },
  {
   "cell_type": "markdown",
   "metadata": {},
   "source": [
    "#### Show the size of dataframe"
   ]
  },
  {
   "cell_type": "code",
   "execution_count": 13,
   "metadata": {},
   "outputs": [],
   "source": [
    "def sparkShape(dataframe):\n",
    "    return (dataframe.count(), len(dataframe.columns))"
   ]
  },
  {
   "cell_type": "code",
   "execution_count": 15,
   "metadata": {},
   "outputs": [
    {
     "name": "stdout",
     "output_type": "stream",
     "text": [
      "The size of the dataframe before removing rows with missing values: (13, 7)\n"
     ]
    }
   ],
   "source": [
    "print('The size of the dataframe before removing rows with missing values:', sparkShape(df))"
   ]
  },
  {
   "cell_type": "markdown",
   "metadata": {},
   "source": [
    "#### Drop all rows with any missing value"
   ]
  },
  {
   "cell_type": "code",
   "execution_count": 16,
   "metadata": {},
   "outputs": [
    {
     "name": "stdout",
     "output_type": "stream",
     "text": [
      "+----------+------+----------------+--------------------+--------------+------------+-----+\n",
      "|customerID|gender|PaperlessBilling|       PaymentMethod|MonthlyCharges|TotalCharges|Churn|\n",
      "+----------+------+----------------+--------------------+--------------+------------+-----+\n",
      "|7590-VHVEG|Female|             Yes|    Electronic check|         29.85|       29.85|   No|\n",
      "|3668-QPYBK|  Male|             Yes|        Mailed check|         53.85|      108.15|  Yes|\n",
      "|9237-HQITU|Female|             Yes|    Electronic check|          70.7|      151.65|  Yes|\n",
      "|1452-KIOVK|  Male|             Yes|Credit card (auto...|          89.1|      1949.4|   No|\n",
      "|6713-OKOMC|Female|              No|        Mailed check|         29.75|       301.9|   No|\n",
      "|6388-TABGU|  Male|              No|Bank transfer (au...|         56.15|     3487.95|   No|\n",
      "|7469-LKBCI|  Male|              No|Credit card (auto...|         18.95|       326.8|   No|\n",
      "|8091-TTVAX|  Male|              No|Credit card (auto...|        100.35|      5681.1|   No|\n",
      "+----------+------+----------------+--------------------+--------------+------------+-----+\n",
      "\n"
     ]
    }
   ],
   "source": [
    "new_df = df.na.drop()\n",
    "new_df.show()"
   ]
  },
  {
   "cell_type": "code",
   "execution_count": 17,
   "metadata": {},
   "outputs": [
    {
     "name": "stdout",
     "output_type": "stream",
     "text": [
      "The size of the dataframe after removing rows with missing values: (8, 7)\n"
     ]
    }
   ],
   "source": [
    "print('The size of the dataframe after removing rows with missing values:', sparkShape(new_df))"
   ]
  },
  {
   "cell_type": "markdown",
   "metadata": {},
   "source": [
    "#### Replace missing values with another value."
   ]
  },
  {
   "cell_type": "code",
   "execution_count": 19,
   "metadata": {},
   "outputs": [
    {
     "name": "stdout",
     "output_type": "stream",
     "text": [
      "+----------+------+----------------+--------------------+--------------+------------+-----+\n",
      "|customerID|gender|PaperlessBilling|       PaymentMethod|MonthlyCharges|TotalCharges|Churn|\n",
      "+----------+------+----------------+--------------------+--------------+------------+-----+\n",
      "|7590-VHVEG|Female|             Yes|    Electronic check|         29.85|       29.85|   No|\n",
      "|5575-GNVDE|  Male|              No|                null|         56.95|        null|   No|\n",
      "|3668-QPYBK|  Male|             Yes|        Mailed check|         53.85|      108.15|  Yes|\n",
      "|7795-CFOCW|  Male|              No|Bank transfer (au...|          null|     1840.75|   No|\n",
      "|9237-HQITU|Female|             Yes|    Electronic check|          70.7|      151.65|  Yes|\n",
      "|9305-CDSKC|  null|             Yes|    Electronic check|         99.65|       820.5|  Yes|\n",
      "|1452-KIOVK|  Male|             Yes|Credit card (auto...|          89.1|      1949.4|   No|\n",
      "|6713-OKOMC|Female|              No|        Mailed check|         29.75|       301.9|   No|\n",
      "|7892-POOKP|Female|             Yes|    Electronic check|         104.8|        null|  Yes|\n",
      "|6388-TABGU|  Male|              No|Bank transfer (au...|         56.15|     3487.95|   No|\n",
      "|9763-GRSKD|  Male|       No record|        Mailed check|         49.95|      587.45|   No|\n",
      "|7469-LKBCI|  Male|              No|Credit card (auto...|         18.95|       326.8|   No|\n",
      "|8091-TTVAX|  Male|              No|Credit card (auto...|        100.35|      5681.1|   No|\n",
      "+----------+------+----------------+--------------------+--------------+------------+-----+\n",
      "\n"
     ]
    }
   ],
   "source": [
    "# Replace missing values for the 'PaperlessBilling' column with a string 'No record'.\n",
    "df.na.fill('No record', ['PaperlessBilling']).show()"
   ]
  },
  {
   "cell_type": "code",
   "execution_count": 23,
   "metadata": {},
   "outputs": [],
   "source": [
    "# Replace missing values with the mean.\n",
    "from pyspark.ml.feature import Imputer\n",
    "\n",
    "imputer = Imputer(\n",
    "    inputCols=['MonthlyCharges', 'TotalCharges'],\n",
    "    outputCols=['MonlyCharges_new', 'TotalCharges_new']\n",
    ").setStrategy(\"median\")"
   ]
  },
  {
   "cell_type": "code",
   "execution_count": 24,
   "metadata": {},
   "outputs": [
    {
     "name": "stdout",
     "output_type": "stream",
     "text": [
      "+----------+------+----------------+--------------------+--------------+------------+-----+----------------+----------------+\n",
      "|customerID|gender|PaperlessBilling|       PaymentMethod|MonthlyCharges|TotalCharges|Churn|MonlyCharges_new|TotalCharges_new|\n",
      "+----------+------+----------------+--------------------+--------------+------------+-----+----------------+----------------+\n",
      "|7590-VHVEG|Female|             Yes|    Electronic check|         29.85|       29.85|   No|           29.85|           29.85|\n",
      "|5575-GNVDE|  Male|              No|                null|         56.95|        null|   No|           56.95|          587.45|\n",
      "|3668-QPYBK|  Male|             Yes|        Mailed check|         53.85|      108.15|  Yes|           53.85|          108.15|\n",
      "|7795-CFOCW|  Male|              No|Bank transfer (au...|          null|     1840.75|   No|           56.15|         1840.75|\n",
      "|9237-HQITU|Female|             Yes|    Electronic check|          70.7|      151.65|  Yes|            70.7|          151.65|\n",
      "|9305-CDSKC|  null|             Yes|    Electronic check|         99.65|       820.5|  Yes|           99.65|           820.5|\n",
      "|1452-KIOVK|  Male|             Yes|Credit card (auto...|          89.1|      1949.4|   No|            89.1|          1949.4|\n",
      "|6713-OKOMC|Female|              No|        Mailed check|         29.75|       301.9|   No|           29.75|           301.9|\n",
      "|7892-POOKP|Female|             Yes|    Electronic check|         104.8|        null|  Yes|           104.8|          587.45|\n",
      "|6388-TABGU|  Male|              No|Bank transfer (au...|         56.15|     3487.95|   No|           56.15|         3487.95|\n",
      "|9763-GRSKD|  Male|            null|        Mailed check|         49.95|      587.45|   No|           49.95|          587.45|\n",
      "|7469-LKBCI|  Male|              No|Credit card (auto...|         18.95|       326.8|   No|           18.95|           326.8|\n",
      "|8091-TTVAX|  Male|              No|Credit card (auto...|        100.35|      5681.1|   No|          100.35|          5681.1|\n",
      "+----------+------+----------------+--------------------+--------------+------------+-----+----------------+----------------+\n",
      "\n"
     ]
    }
   ],
   "source": [
    "# Add new imputed columns to df.\n",
    "imputer.fit(df).transform(df).show()"
   ]
  }
 ],
 "metadata": {
  "interpreter": {
   "hash": "c1b6a53c78a639703da76b578abed457aa085474e0a9423a901ef81d3033d032"
  },
  "kernelspec": {
   "display_name": "Python 3.7.3 ('python3')",
   "language": "python",
   "name": "python3"
  },
  "language_info": {
   "codemirror_mode": {
    "name": "ipython",
    "version": 3
   },
   "file_extension": ".py",
   "mimetype": "text/x-python",
   "name": "python",
   "nbconvert_exporter": "python",
   "pygments_lexer": "ipython3",
   "version": "3.7.3"
  },
  "orig_nbformat": 4
 },
 "nbformat": 4,
 "nbformat_minor": 2
}
